{
 "cells": [
  {
   "cell_type": "code",
   "execution_count": 12,
   "id": "db93338f",
   "metadata": {},
   "outputs": [],
   "source": [
    "!python -m pip install yahooquery --q"
   ]
  },
  {
   "cell_type": "code",
   "execution_count": 51,
   "id": "738ae10d",
   "metadata": {},
   "outputs": [],
   "source": [
    "import os\n",
    "import mlflow\n",
    "from mlflow.langchain import autolog\n",
    "\n",
    "from yahooquery import Ticker\n",
    "import requests"
   ]
  },
  {
   "cell_type": "code",
   "execution_count": null,
   "id": "b396d1b7",
   "metadata": {},
   "outputs": [],
   "source": [
    "MODEL_NAME = 'gemini-2.0-flash'\n",
    "COMPANY_NAME = 'Apple Inc.'"
   ]
  },
  {
   "cell_type": "code",
   "execution_count": null,
   "id": "021567eb",
   "metadata": {},
   "outputs": [],
   "source": [
    "# function to generate stock_code from Company Name\n",
    "company_to_ticker = {\n",
    "    \"Apple\": \"AAPL\",\n",
    "    \"Microsoft\": \"MSFT\",\n",
    "    \"Amazon\": \"AMZN\",\n",
    "    \"Google\": \"GOOGL\",\n",
    "    \"Tesla\": \"TSLA\"\n",
    "}"
   ]
  },
  {
   "cell_type": "code",
   "execution_count": null,
   "id": "ca590800",
   "metadata": {},
   "outputs": [],
   "source": [
    "@tool(description = 'Get headlines from stock code')\n",
    "def get_headline_news(stock_code: str) -> str:\n",
    "    url = f\"https://www.alphavantage.co/query\"\n",
    "    params = {\n",
    "        'function': 'NEWS_SENTIMENT',\n",
    "        'tickers': stock_code,\n",
    "        'apikey': 'H1439C91G0VHFCJX',\n",
    "        'limit': 5\n",
    "    }\n",
    "    response = requests.get(url, params=params)\n",
    "    data = response.json()\n",
    "    headlines = []\n",
    "    for article in data['feed'][:5]:\n",
    "        headlines.append(article['title'])\n",
    "    \n",
    "    return {'headlines' :'\\n '.join(headlines)}\n"
   ]
  },
  {
   "cell_type": "code",
   "execution_count": null,
   "id": "ae4308d5",
   "metadata": {},
   "outputs": [],
   "source": [
    "system_prompt = \n",
    "prompt_temp = ChatPromptTemplate([(\"system\",system_prompt),(\"user\",\"{text}\")])\n",
    "\n",
    "from langchain.chat_models import init_chat_model\n",
    "model = init_chat_model(model_name, model_provider=\"google_genai\")\n",
    "\n",
    "from langchain_core.output_parsers import StrOutputParser\n",
    "parser = StrOutputParser()"
   ]
  },
  {
   "cell_type": "code",
   "execution_count": null,
   "id": "c1f21742",
   "metadata": {},
   "outputs": [],
   "source": []
  },
  {
   "cell_type": "code",
   "execution_count": null,
   "id": "43fea135",
   "metadata": {},
   "outputs": [],
   "source": []
  },
  {
   "cell_type": "code",
   "execution_count": null,
   "id": "c43dd254",
   "metadata": {},
   "outputs": [],
   "source": []
  },
  {
   "cell_type": "code",
   "execution_count": null,
   "id": "d6017485",
   "metadata": {},
   "outputs": [],
   "source": []
  },
  {
   "cell_type": "code",
   "execution_count": null,
   "id": "00dde2a4",
   "metadata": {},
   "outputs": [],
   "source": [
    "f\"\"\"You are a financial analyst specializing in market sentiment analysis. \n",
    "Analyze the following news data about {company_name} (stock code: {stock_code}) and provide a structured sentiment analysis.\n",
    "\n",
    "News Data:\n",
    "{news_data}\n",
    "\n",
    "Please provide your analysis in the following JSON format ONLY:\n",
    "{{\n",
    "    \"company_name\": \"{company_name}\",\n",
    "    \"stock_code\": \"{stock_code}\",\n",
    "    \"newsdesc\": \"Brief summary of the news (max 200 words)\",\n",
    "    \"sentiment\": \"Positive/Negative/Neutral\",\n",
    "    \"people_names\": [\"list of people mentioned in the news\"],\n",
    "    \"places_names\": [\"list of places/locations mentioned\"],\n",
    "    \"other_companies_referred\": [\"list of other companies mentioned\"],\n",
    "    \"related_industries\": [\"list of related industries mentioned\"],\n",
    "    \"market_implications\": \"Analysis of potential market impact (max 150 words)\",\n",
    "    \"confidence_score\": 0.0\n",
    "}}\n",
    "\n",
    "Guidelines:\n",
    "- confidence_score should be between 0.0 and 1.0 (1.0 = very confident)\n",
    "- sentiment should be based on overall tone and potential market impact\n",
    "- Extract only relevant named entities\n",
    "- Focus on factual analysis over speculation\n",
    "- If news data is limited, indicate this in your analysis\n",
    "\n",
    "Respond with ONLY the JSON object, no additional text.\"\"\""
   ]
  }
 ],
 "metadata": {
  "kernelspec": {
   "display_name": "genai",
   "language": "python",
   "name": "python3"
  },
  "language_info": {
   "codemirror_mode": {
    "name": "ipython",
    "version": 3
   },
   "file_extension": ".py",
   "mimetype": "text/x-python",
   "name": "python",
   "nbconvert_exporter": "python",
   "pygments_lexer": "ipython3",
   "version": "3.11.13"
  }
 },
 "nbformat": 4,
 "nbformat_minor": 5
}

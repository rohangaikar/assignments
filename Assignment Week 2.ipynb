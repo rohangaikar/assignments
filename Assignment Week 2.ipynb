{
 "cells": [
  {
   "cell_type": "code",
   "execution_count": null,
   "id": "db93338f",
   "metadata": {},
   "outputs": [],
   "source": [
    "# !python -m pip install yahooquery --q"
   ]
  },
  {
   "cell_type": "code",
   "execution_count": 6,
   "id": "738ae10d",
   "metadata": {},
   "outputs": [],
   "source": [
    "import os\n",
    "import mlflow\n",
    "from mlflow.langchain import autolog\n",
    "\n",
    "from yahooquery import Ticker\n",
    "import requests\n",
    "\n",
    "from langchain_core.prompts import ChatPromptTemplate\n",
    "from langchain.chat_models import init_chat_model\n",
    "from langchain_core.output_parsers import StrOutputParser"
   ]
  },
  {
   "cell_type": "code",
   "execution_count": 7,
   "id": "b396d1b7",
   "metadata": {},
   "outputs": [],
   "source": [
    "MODEL_NAME = 'gemini-2.0-flash'\n",
    "# COMPANY_NAME = 'Apple Inc.'"
   ]
  },
  {
   "cell_type": "code",
   "execution_count": 8,
   "id": "3035dd43",
   "metadata": {},
   "outputs": [],
   "source": [
    "mlflow.set_tracking_uri(\"http://20.75.92.162:5000/\")"
   ]
  },
  {
   "cell_type": "markdown",
   "id": "18a2fd0d",
   "metadata": {},
   "source": [
    "### 1. Create a Prompt Template"
   ]
  },
  {
   "cell_type": "code",
   "execution_count": 23,
   "id": "9f4a2f45",
   "metadata": {},
   "outputs": [],
   "source": [
    "initial_template = \"\"\"You are a financial analyst specializing in market sentiment analysis. \n",
    "Analyze the following news data about {company_name} (stock code: {stock_code} and provide a structured sentiment analysis.\n",
    "\n",
    "News Data:{news_data}\n",
    "\n",
    "Please provide your analysis in the following JSON format ONLY:\n",
    "{{\n",
    "    \"company_name\": The above company name,\n",
    "    \"stock_code\": The above stock_code,\n",
    "    \"newsdesc\": \"Brief summary of the news (max 200 words)\",\n",
    "    \"sentiment\": \"Positive/Negative/Neutral\",\n",
    "    \"people_names\": [\"list of people mentioned in the news\"],\n",
    "    \"places_names\": [\"list of places/locations mentioned\"],\n",
    "    \"other_companies_referred\": [\"list of other companies mentioned\"],\n",
    "    \"related_industries\": [\"list of related industries mentioned\"],\n",
    "    \"market_implications\": \"Analysis of potential market impact (max 150 words)\",\n",
    "    \"confidence_score\": 0.0\n",
    "}}\n",
    "\n",
    "Guidelines:\n",
    "- confidence_score should be between 0.0 and 1.0 (1.0 = very confident)\n",
    "- sentiment should be based on overall tone and potential market impact\n",
    "- Extract only relevant named entities\n",
    "- Focus on factual analysis over speculation\n",
    "- If news data is limited, indicate this in your analysis\n",
    "\n",
    "Respond with ONLY the JSON object, no additional text.\"\"\""
   ]
  },
  {
   "cell_type": "code",
   "execution_count": 17,
   "id": "81149b62",
   "metadata": {},
   "outputs": [
    {
     "name": "stderr",
     "output_type": "stream",
     "text": [
      "2025/09/21 17:27:32 INFO mlflow.store.model_registry.abstract_store: Waiting up to 300 seconds for prompt version to finish creation. Prompt name: rvg-market-sentiment-analyzer, version 8\n"
     ]
    }
   ],
   "source": [
    "# Register a new prompt\n",
    "prompt = mlflow.genai.register_prompt(\n",
    "    name=\"rvg-market-sentiment-analyzer\",\n",
    "    template=initial_template,\n",
    "    # Optional: Provide a commit message to describe the changes\n",
    "    commit_message=\"updated\",\n",
    "    # Optional: Set tags applies to the prompt (across versions)\n",
    "    tags={\n",
    "        \"author\": \"RVG\",\n",
    "        \"task\": \"Market Sentiment Analysis\",\n",
    "        \"language\": \"en\",\n",
    "        'llm': 'gemini-2.0-flash'\n",
    "    },\n",
    ")"
   ]
  },
  {
   "cell_type": "code",
   "execution_count": 9,
   "id": "021567eb",
   "metadata": {},
   "outputs": [],
   "source": [
    "\n",
    "company_to_ticker = {\n",
    "    \"Apple\": \"AAPL\",\n",
    "    \"Microsoft\": \"MSFT\",\n",
    "    \"Amazon\": \"AMZN\",\n",
    "    \"Alphabet (Google)\": \"GOOGL\",\n",
    "    \"Tesla\": \"TSLA\",\n",
    "    \"Meta (Facebook)\": \"META\",\n",
    "    \"Berkshire Hathaway\": \"BRK.B\",\n",
    "    \"NVIDIA\": \"NVDA\",\n",
    "    \"Johnson & Johnson\": \"JNJ\",\n",
    "    \"JPMorgan Chase\": \"JPM\",\n",
    "    \"Visa\": \"V\",\n",
    "    \"Procter & Gamble\": \"PG\",\n",
    "    \"UnitedHealth Group\": \"UNH\",\n",
    "    \"Home Depot\": \"HD\",\n",
    "    \"Mastercard\": \"MA\",\n",
    "    \"Bank of America\": \"BAC\",\n",
    "    \"Pfizer\": \"PFE\",\n",
    "    \"Walt Disney\": \"DIS\",\n",
    "    \"Chevron\": \"CVX\",\n",
    "    \"Coca-Cola\": \"KO\",\n",
    "    \"Verizon\": \"VZ\",\n",
    "    \"Cisco Systems\": \"CSCO\",\n",
    "    \"Comcast\": \"CMCSA\",\n",
    "    \"PepsiCo\": \"PEP\",\n",
    "    \"AT&T\": \"T\",\n",
    "    \"Intel\": \"INTC\",\n",
    "    \"Netflix\": \"NFLX\",\n",
    "    \"Adobe\": \"ADBE\",\n",
    "    \"Salesforce\": \"CRM\",\n",
    "    \"Abbott Laboratories\": \"ABT\",\n",
    "    \"Nike\": \"NKE\",\n",
    "    \"Eli Lilly\": \"LLY\",\n",
    "    \"Wells Fargo\": \"WFC\",\n",
    "    \"Oracle\": \"ORCL\",\n",
    "    \"McDonald's\": \"MCD\",\n",
    "    \"IBM\": \"IBM\",\n",
    "    \"Merck\": \"MRK\",\n",
    "    \"PayPal\": \"PYPL\",\n",
    "    \"Costco\": \"COST\",\n",
    "    \"Broadcom\": \"AVGO\",\n",
    "    \"Starbucks\": \"SBUX\",\n",
    "    \"General Electric\": \"GE\",\n",
    "    \"Goldman Sachs\": \"GS\",\n",
    "    \"Boeing\": \"BA\",\n",
    "    \"American Express\": \"AXP\",\n",
    "    \"Morgan Stanley\": \"MS\",\n",
    "    \"Walmart\": \"WMT\",\n",
    "    \"3M\": \"MMM\",\n",
    "    \"Caterpillar\": \"CAT\",\n",
    "    \"General Motors\": \"GM\"\n",
    "}\n",
    "\n",
    "def get_stock_code_from_company_name(company_name:str) -> str:\n",
    "    return company_to_ticker[company_name]"
   ]
  },
  {
   "cell_type": "code",
   "execution_count": 10,
   "id": "ca590800",
   "metadata": {},
   "outputs": [],
   "source": [
    "\n",
    "def get_headline_news(company_name: str) -> str:\n",
    "    stock_code = get_stock_code_from_company_name(company_name)\n",
    "    url = f\"https://www.alphavantage.co/query?function=NEWS_SENTIMENT&tickers={stock_code}&apikey=IPXL2Z8EW349Q0B9\"\n",
    "    response = requests.get(url)\n",
    "    data = response.json()\n",
    "    print(data)\n",
    "    headlines = []\n",
    "    for article in data['feed'][:5]:\n",
    "        headlines.append(article['summary'])\n",
    "    return '\\n '.join(headlines),stock_code\n"
   ]
  },
  {
   "cell_type": "code",
   "execution_count": null,
   "id": "af9ef92d",
   "metadata": {},
   "outputs": [
    {
     "name": "stdout",
     "output_type": "stream",
     "text": [
      "```json\n",
      "{\n",
      "    \"company_name\": \"IBM\",\n",
      "    \"stock_code\": \"IBM\",\n",
      "    \"newsdesc\": \"IBM is pursuing an aggressive strategy in AI and quantum computing via partnerships. They are expanding their AI presence in India. IBM's annual Cost of a Data Breach Report indicates AI adoption outpaces security controls. A strong second-quarter earnings report showed revenue growth in Software and Infrastructure.\",\n",
      "    \"sentiment\": \"Positive\",\n",
      "    \"people_names\": [],\n",
      "    \"places_names\": [\"India\"],\n",
      "    \"other_companies_referred\": [],\n",
      "    \"related_industries\": [\"AI\", \"quantum computing\", \"Software\", \"Infrastructure\", \"Data Breach\", \"Security\"],\n",
      "    \"market_implications\": \"The news suggests a positive outlook for IBM. Aggressive expansion in AI and quantum computing, coupled with strong earnings, signals growth potential. However, the Data Breach Report highlights a risk associated with rapid AI adoption and potential security vulnerabilities, which could temper investor enthusiasm to a small degree.\",\n",
      "    \"confidence_score\": 0.8\n",
      "}\n",
      "```\n"
     ]
    }
   ],
   "source": [
    "\n",
    "company_name = 'IBM'\n",
    "news_data,stock_code = get_headline_news(company_name)\n",
    "# print(news_data)\n",
    "# print()\n",
    "# print(stock_code)\n",
    "\n",
    "my_prompt = mlflow.genai.load_prompt(\"prompts:/rvg-market-sentiment-analyzer/8\")\n",
    "system_prompt = my_prompt.template\n",
    "\n",
    "analyzer_prompt = ChatPromptTemplate.from_template(system_prompt)\n",
    "\n",
    "model = init_chat_model(MODEL_NAME, model_provider=\"google_genai\")\n",
    "\n",
    "parser = StrOutputParser()\n",
    "\n",
    "\n",
    "chain =  analyzer_prompt | model | parser \n",
    "\n",
    "# print(news_data)\n",
    "\n",
    "result = chain.invoke({\"company_name\":company_name,\n",
    "                       \"stock_code\":stock_code,\n",
    "                       \"news_data\":news_data})\n",
    "\n",
    "print(result)"
   ]
  },
  {
   "cell_type": "code",
   "execution_count": null,
   "id": "d6017485",
   "metadata": {},
   "outputs": [],
   "source": []
  }
 ],
 "metadata": {
  "kernelspec": {
   "display_name": "genai",
   "language": "python",
   "name": "python3"
  },
  "language_info": {
   "codemirror_mode": {
    "name": "ipython",
    "version": 3
   },
   "file_extension": ".py",
   "mimetype": "text/x-python",
   "name": "python",
   "nbconvert_exporter": "python",
   "pygments_lexer": "ipython3",
   "version": "3.11.13"
  }
 },
 "nbformat": 4,
 "nbformat_minor": 5
}
